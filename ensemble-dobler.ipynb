{
 "cells": [
  {
   "cell_type": "markdown",
   "metadata": {},
   "source": [
    "# **Ensemble Machine Learning:** Wine Dataset"
   ]
  },
  {
   "cell_type": "markdown",
   "metadata": {},
   "source": [
    "## **Author:** Evan Dobler\n",
    "## **Date:** 4/18/2025"
   ]
  },
  {
   "cell_type": "markdown",
   "metadata": {},
   "source": [
    "## **Introduction:** In this project, we learn how to implement and evaluate more complex models when simpler techniques aren't enough. We'll explore ensemble models, a powerful approach in machine learning that combines multiple models to improve performance. Ensemble methods often outperform individual models by reducing overfitting and improving generalization.\n",
    "\n"
   ]
  },
  {
   "cell_type": "code",
   "execution_count": 160,
   "metadata": {},
   "outputs": [],
   "source": [
    "# ------------------------------------------------\n",
    "# Imports once at the top, organized\n",
    "# ------------------------------------------------\n",
    "\n",
    "import pandas as pd\n",
    "import seaborn as sns\n",
    "import numpy as np\n",
    "import matplotlib.pyplot as plt\n",
    "import sklearn\n",
    "\n",
    "from sklearn.ensemble import (\n",
    "    RandomForestClassifier,\n",
    "    AdaBoostClassifier,\n",
    "    GradientBoostingClassifier,\n",
    "    BaggingClassifier,\n",
    "    VotingClassifier\n",
    ")\n",
    "\n",
    "\n",
    "from sklearn.metrics import (\n",
    "    confusion_matrix,\n",
    "    accuracy_score,\n",
    "    precision_score,\n",
    "    recall_score,\n",
    "    f1_score\n",
    ")\n"
   ]
  },
  {
   "cell_type": "markdown",
   "metadata": {},
   "source": [
    "#### Section 1. Load and Inspect the Data"
   ]
  },
  {
   "cell_type": "code",
   "execution_count": 161,
   "metadata": {},
   "outputs": [
    {
     "name": "stdout",
     "output_type": "stream",
     "text": [
      "Wine Quality Dataset Info:\n",
      "<class 'pandas.core.frame.DataFrame'>\n",
      "RangeIndex: 1599 entries, 0 to 1598\n",
      "Data columns (total 12 columns):\n",
      " #   Column                Non-Null Count  Dtype  \n",
      "---  ------                --------------  -----  \n",
      " 0   fixed acidity         1599 non-null   float64\n",
      " 1   volatile acidity      1599 non-null   float64\n",
      " 2   citric acid           1599 non-null   float64\n",
      " 3   residual sugar        1599 non-null   float64\n",
      " 4   chlorides             1599 non-null   float64\n",
      " 5   free sulfur dioxide   1599 non-null   float64\n",
      " 6   total sulfur dioxide  1599 non-null   float64\n",
      " 7   density               1599 non-null   float64\n",
      " 8   pH                    1599 non-null   float64\n",
      " 9   sulphates             1599 non-null   float64\n",
      " 10  alcohol               1599 non-null   float64\n",
      " 11  quality               1599 non-null   int64  \n",
      "dtypes: float64(11), int64(1)\n",
      "memory usage: 150.0 KB\n",
      "\n",
      "First 5 rows:\n",
      "   fixed acidity  volatile acidity  citric acid  residual sugar  chlorides  \\\n",
      "0            7.4              0.70         0.00             1.9      0.076   \n",
      "1            7.8              0.88         0.00             2.6      0.098   \n",
      "2            7.8              0.76         0.04             2.3      0.092   \n",
      "3           11.2              0.28         0.56             1.9      0.075   \n",
      "4            7.4              0.70         0.00             1.9      0.076   \n",
      "\n",
      "   free sulfur dioxide  total sulfur dioxide  density    pH  sulphates  \\\n",
      "0                 11.0                  34.0   0.9978  3.51       0.56   \n",
      "1                 25.0                  67.0   0.9968  3.20       0.68   \n",
      "2                 15.0                  54.0   0.9970  3.26       0.65   \n",
      "3                 17.0                  60.0   0.9980  3.16       0.58   \n",
      "4                 11.0                  34.0   0.9978  3.51       0.56   \n",
      "\n",
      "   alcohol  quality  \n",
      "0      9.4        5  \n",
      "1      9.8        5  \n",
      "2      9.8        5  \n",
      "3      9.8        6  \n",
      "4      9.4        5  \n"
     ]
    }
   ],
   "source": [
    "\n",
    "# Load the wine quality dataset (red wine)\n",
    "df = pd.read_csv(\"winequality-red.csv\", sep=\";\")\n",
    "\n",
    "# Display structure and first few rows of the wine dataset\n",
    "print(\"Wine Quality Dataset Info:\")\n",
    "df.info()\n",
    "print(\"\\nFirst 5 rows:\")\n",
    "print(df.head())"
   ]
  },
  {
   "cell_type": "markdown",
   "metadata": {},
   "source": [
    "#### Section 2. Prepare the Data\n",
    "Includes cleaning, feature engineering, encoding, splitting, helper functions"
   ]
  },
  {
   "cell_type": "code",
   "execution_count": 162,
   "metadata": {},
   "outputs": [],
   "source": [
    "# Define a helper function that maps quality scores to labels\n",
    "def quality_to_label(q):\n",
    "    if q <= 4:\n",
    "        return \"low\"\n",
    "    elif q <= 6:\n",
    "        return \"medium\"\n",
    "    else:\n",
    "        return \"high\""
   ]
  },
  {
   "cell_type": "code",
   "execution_count": 163,
   "metadata": {},
   "outputs": [],
   "source": [
    "# Apply the function to create a new column with string labels\n",
    "df[\"quality_label\"] = df[\"quality\"].apply(quality_to_label)"
   ]
  },
  {
   "cell_type": "code",
   "execution_count": 164,
   "metadata": {},
   "outputs": [],
   "source": [
    "# Next, create a numeric version of the quality label for use in modeling\n",
    "# We'll map: low -> 0, medium -> 1, high -> 2\n",
    "def quality_to_number(q):\n",
    "    if q <= 4:\n",
    "        return 0\n",
    "    elif q <= 6:\n",
    "        return 1\n",
    "    else:\n",
    "        return 2\n"
   ]
  },
  {
   "cell_type": "code",
   "execution_count": 165,
   "metadata": {},
   "outputs": [
    {
     "name": "stdout",
     "output_type": "stream",
     "text": [
      "quality_label\n",
      "medium    1319\n",
      "high       217\n",
      "low         63\n",
      "Name: count, dtype: int64\n",
      "quality_numeric\n",
      "1    1319\n",
      "2     217\n",
      "0      63\n",
      "Name: count, dtype: int64\n"
     ]
    }
   ],
   "source": [
    "# Apply the numeric mapping\n",
    "df[\"quality_numeric\"] = df[\"quality\"].apply(quality_to_number)\n",
    "\n",
    "# Quick check to verify distribution of each label\n",
    "print(df[\"quality_label\"].value_counts())\n",
    "print(df[\"quality_numeric\"].value_counts())"
   ]
  },
  {
   "cell_type": "markdown",
   "metadata": {},
   "source": [
    "#### Section 3. Feature Selection and Justification\n",
    "In this section, we define our input features (X) and our target variable (y) for the classification model."
   ]
  },
  {
   "cell_type": "code",
   "execution_count": 166,
   "metadata": {},
   "outputs": [],
   "source": [
    "X = df.drop(columns=[\"quality\", \"quality_label\", \"quality_numeric\"])"
   ]
  },
  {
   "cell_type": "markdown",
   "metadata": {},
   "source": [
    "Explanation:\n",
    "We drop the following columns from our dataset when selecting features:\n",
    "\n",
    "\"quality\": This is the original numerical score (0–10). It's too granular and no longer needed because we've already categorized it.\n",
    "\n",
    "\"quality_label\": This is the string label version of quality (low, medium, high), useful for interpretation but not used for modeling.\n",
    "\n",
    "\"quality_numeric\": This is the numeric class label we're using as our target (y), so it should not be part of the input features.\n",
    "\n",
    "That leaves us with 11 physicochemical features, which include things like:\n",
    "\n",
    "fixed acidity, volatile acidity, citric acid, residual sugar, chlorides, etc.\n",
    "\n",
    "These are all relevant quantitative indicators that can influence the taste and quality of wine, and they serve as useful predictors for modeling."
   ]
  },
  {
   "cell_type": "code",
   "execution_count": 167,
   "metadata": {},
   "outputs": [],
   "source": [
    "y = df[\"quality_numeric\"]\n"
   ]
  },
  {
   "cell_type": "markdown",
   "metadata": {},
   "source": [
    "Explanation:\n",
    "We use the quality_numeric column as the target because:\n",
    "\n",
    "It’s a simplified version of the original quality score.\n",
    "\n",
    "It has three clear categories: 0 (low), 1 (medium), 2 (high).\n",
    "\n",
    "It’s numeric, which is required by most scikit-learn classification algorithms.\n",
    "\n",
    "This formulation turns our problem into a multi-class classification task, where the model predicts which quality category a given wine belongs to based on its features.\n",
    "\n"
   ]
  },
  {
   "cell_type": "markdown",
   "metadata": {},
   "source": [
    "#### Split the Data"
   ]
  },
  {
   "cell_type": "code",
   "execution_count": 168,
   "metadata": {},
   "outputs": [
    {
     "name": "stdout",
     "output_type": "stream",
     "text": [
      "Training set: (1279, 11)\n",
      "Test set: (320, 11)\n"
     ]
    }
   ],
   "source": [
    "# 80% for training, 20% for testing\n",
    "X_train, X_test, y_train, y_test = train_test_split(X, y, test_size=0.2, random_state=42)\n",
    "\n",
    "# Confirm shape of the splits\n",
    "print(\"Training set:\", X_train.shape)\n",
    "print(\"Test set:\", X_test.shape)"
   ]
  },
  {
   "cell_type": "markdown",
   "metadata": {},
   "source": [
    "#### Data Visualization"
   ]
  },
  {
   "cell_type": "code",
   "execution_count": 169,
   "metadata": {},
   "outputs": [
    {
     "data": {
      "image/png": "[encoded data removed]",
      "text/plain": [
       "<Figure size 1200x500 with 2 Axes>"
      ]
     },
     "metadata": {},
     "output_type": "display_data"
    }
   ],
   "source": [
    "# Add the label back to visualize nicely\n",
    "df[\"quality_label\"] = df[\"quality_numeric\"].map({0: \"low\", 1: \"medium\", 2: \"high\"})\n",
    "\n",
    "plt.figure(figsize=(12, 5))\n",
    "\n",
    "# Alcohol distribution\n",
    "plt.subplot(1, 2, 1)\n",
    "sns.histplot(data=df, x=\"alcohol\", hue=\"quality_label\", kde=True, palette=\"Set2\")\n",
    "plt.title(\"Alcohol Content by Wine Quality\")\n",
    "\n",
    "# Volatile acidity distribution\n",
    "plt.subplot(1, 2, 2)\n",
    "sns.histplot(data=df, x=\"volatile acidity\", hue=\"quality_label\", kde=True, palette=\"Set2\")\n",
    "plt.title(\"Volatile Acidity by Wine Quality\")\n",
    "\n",
    "plt.tight_layout()\n",
    "plt.show()"
   ]
  },
  {
   "cell_type": "markdown",
   "metadata": {},
   "source": [
    "#### **Section 4. Split the Data into Train and Test**"
   ]
  },
  {
   "cell_type": "code",
   "execution_count": 170,
   "metadata": {},
   "outputs": [],
   "source": [
    "X_train, X_test, y_train, y_test = train_test_split(\n",
    "    X, y, test_size=0.2, random_state=42, stratify=y\n",
    ")"
   ]
  },
  {
   "cell_type": "markdown",
   "metadata": {},
   "source": [
    "#### **Section 5.Evaluate Model Performance**"
   ]
  },
  {
   "cell_type": "code",
   "execution_count": 171,
   "metadata": {},
   "outputs": [
    {
     "name": "stdout",
     "output_type": "stream",
     "text": [
      "\n",
      "Random Forest (200, max_depth=10) Results\n",
      "Confusion Matrix (Test):\n",
      "[[  0  13   0]\n",
      " [  0 255   9]\n",
      " [  0  16  27]]\n",
      "Train Accuracy: 0.9758, Test Accuracy: 0.8812\n",
      "Train F1 Score: 0.9745, Test F1 Score: 0.8596\n",
      "\n",
      "MLP Classifier Results\n",
      "Confusion Matrix (Test):\n",
      "[[  0  13   0]\n",
      " [  0 257   7]\n",
      " [  0  30  13]]\n",
      "Train Accuracy: 0.8514, Test Accuracy: 0.8438\n",
      "Train F1 Score: 0.8141, Test F1 Score: 0.8073\n"
     ]
    }
   ],
   "source": [
    "def evaluate_model(name, model, X_train, y_train, X_test, y_test, results):\n",
    "    model.fit(X_train, y_train)\n",
    "\n",
    "    y_train_pred = model.predict(X_train)\n",
    "    y_test_pred = model.predict(X_test)\n",
    "\n",
    "    train_acc = accuracy_score(y_train, y_train_pred)\n",
    "    test_acc = accuracy_score(y_test, y_test_pred)\n",
    "    train_f1 = f1_score(y_train, y_train_pred, average=\"weighted\")\n",
    "    test_f1 = f1_score(y_test, y_test_pred, average=\"weighted\")\n",
    "\n",
    "    print(f\"\\n{name} Results\")\n",
    "    print(\"Confusion Matrix (Test):\")\n",
    "    print(confusion_matrix(y_test, y_test_pred))\n",
    "    print(f\"Train Accuracy: {train_acc:.4f}, Test Accuracy: {test_acc:.4f}\")\n",
    "    print(f\"Train F1 Score: {train_f1:.4f}, Test F1 Score: {test_f1:.4f}\")\n",
    "\n",
    "    results.append(\n",
    "        {\n",
    "            \"Model\": name,\n",
    "            \"Train Accuracy\": train_acc,\n",
    "            \"Test Accuracy\": test_acc,\n",
    "            \"Train F1\": train_f1,\n",
    "            \"Test F1\": test_f1,\n",
    "        }\n",
    "    )\n",
    "\n",
    "# Initialize results list\n",
    "results = []\n",
    "\n",
    "# Model 2: Random Forest (200 trees, max depth=10)\n",
    "evaluate_model(\n",
    "    \"Random Forest (200, max_depth=10)\",\n",
    "    RandomForestClassifier(n_estimators=200, max_depth=10, random_state=42),\n",
    "    X_train,\n",
    "    y_train,\n",
    "    X_test,\n",
    "    y_test,\n",
    "    results,\n",
    ")\n",
    "\n",
    "# Model 9: MLP Classifier (basic neural network)\n",
    "evaluate_model(\n",
    "    \"MLP Classifier\",\n",
    "    MLPClassifier(hidden_layer_sizes=(100,), max_iter=1000, random_state=42),\n",
    "    X_train,\n",
    "    y_train,\n",
    "    X_test,\n",
    "    y_test,\n",
    "    results,\n",
    ")\n"
   ]
  },
  {
   "cell_type": "markdown",
   "metadata": {},
   "source": [
    "### Section 5. Evaluate Model Performance\n",
    "\n",
    "We selected two models to compare: \n",
    "\n",
    "1. **Random Forest (200 estimators, max_depth=10)** – a robust ensemble method using multiple decision trees with limited depth to prevent overfitting.\n",
    "2. **MLP Classifier** – a basic neural network with one hidden layer of 100 neurons, capable of learning non-linear decision boundaries.\n",
    "\n",
    "#### Performance Summary:\n",
    "\n",
    "| Metric              | Random Forest         | MLP Classifier         |\n",
    "|---------------------|------------------------|-------------------------|\n",
    "| **Train Accuracy**  | 97.58%                | 85.14%                 |\n",
    "| **Test Accuracy**   | 88.12%                | 84.38%                 |\n",
    "| **Train F1 Score**  | 97.45%                | 81.41%                 |\n",
    "| **Test F1 Score**   | 85.96%                | 80.73%                 |\n",
    "\n",
    "#### Confusion Matrix (Test Set):\n",
    "\n",
    "- **Random Forest**\n",
    "[[ 0 13 0] [ 0 255 9] [ 0 16 27]]\n",
    "\n",
    "- **MLP Classifier**\n",
    "[[ 0 13 0] [ 0 257 7] [ 0 30 13]]\n",
    "\n",
    "\n",
    "#### Analysis:\n",
    "\n",
    "- **Random Forest** performed significantly better across all metrics, especially in precision for the **high** quality class (fewer false positives compared to MLP).\n",
    "- **MLP Classifier** showed decent generalization, but struggled more with correctly classifying the \"high\" quality wines, misclassifying 30 of them as \"medium.\"\n",
    "- The Random Forest model had a higher training score, but the gap between training and test accuracy was relatively small, suggesting it didn't overfit badly.\n",
    "\n",
    "#### Conclusion:\n",
    "\n",
    "Based on accuracy, F1 score, and confusion matrix analysis, the **Random Forest (200, max_depth=10)** model is the better choice for predicting wine quality on this dataset. It balances complexity and performance well, outperforming the MLP Classifier in both precision and recall.\n"
   ]
  },
  {
   "cell_type": "markdown",
   "metadata": {},
   "source": [
    "#### **Section 6. Compare Results**"
   ]
  },
  {
   "cell_type": "code",
   "execution_count": 172,
   "metadata": {},
   "outputs": [
    {
     "name": "stdout",
     "output_type": "stream",
     "text": [
      "\n",
      "Summary of All Models:\n"
     ]
    },
    {
     "data": {
      "text/html": [
       "<div>\n",
       "<style scoped>\n",
       "    .dataframe tbody tr th:only-of-type {\n",
       "        vertical-align: middle;\n",
       "    }\n",
       "\n",
       "    .dataframe tbody tr th {\n",
       "        vertical-align: top;\n",
       "    }\n",
       "\n",
       "    .dataframe thead th {\n",
       "        text-align: right;\n",
       "    }\n",
       "</style>\n",
       "<table border=\"1\" class=\"dataframe\">\n",
       "  <thead>\n",
       "    <tr style=\"text-align: right;\">\n",
       "      <th></th>\n",
       "      <th>Model</th>\n",
       "      <th>Train Accuracy</th>\n",
       "      <th>Test Accuracy</th>\n",
       "      <th>Train F1</th>\n",
       "      <th>Test F1</th>\n",
       "      <th>Train-Test Accuracy Gap</th>\n",
       "      <th>Train-Test F1 Gap</th>\n",
       "    </tr>\n",
       "  </thead>\n",
       "  <tbody>\n",
       "    <tr>\n",
       "      <th>0</th>\n",
       "      <td>Random Forest (200, max_depth=10)</td>\n",
       "      <td>0.975762</td>\n",
       "      <td>0.88125</td>\n",
       "      <td>0.974482</td>\n",
       "      <td>0.859643</td>\n",
       "      <td>0.094512</td>\n",
       "      <td>0.114839</td>\n",
       "    </tr>\n",
       "    <tr>\n",
       "      <th>1</th>\n",
       "      <td>MLP Classifier</td>\n",
       "      <td>0.851446</td>\n",
       "      <td>0.84375</td>\n",
       "      <td>0.814145</td>\n",
       "      <td>0.807318</td>\n",
       "      <td>0.007696</td>\n",
       "      <td>0.006827</td>\n",
       "    </tr>\n",
       "  </tbody>\n",
       "</table>\n",
       "</div>"
      ],
      "text/plain": [
       "                               Model  Train Accuracy  Test Accuracy  Train F1  \\\n",
       "0  Random Forest (200, max_depth=10)        0.975762        0.88125  0.974482   \n",
       "1                     MLP Classifier        0.851446        0.84375  0.814145   \n",
       "\n",
       "    Test F1  Train-Test Accuracy Gap  Train-Test F1 Gap  \n",
       "0  0.859643                 0.094512           0.114839  \n",
       "1  0.807318                 0.007696           0.006827  "
      ]
     },
     "metadata": {},
     "output_type": "display_data"
    }
   ],
   "source": [
    "# Convert the results list to a DataFrame\n",
    "results_df = pd.DataFrame(results)\n",
    "\n",
    "# Add gap columns to the results DataFrame\n",
    "results_df[\"Train-Test Accuracy Gap\"] = results_df[\"Train Accuracy\"] - results_df[\"Test Accuracy\"]\n",
    "results_df[\"Train-Test F1 Gap\"] = results_df[\"Train F1\"] - results_df[\"Test F1\"]\n",
    "\n",
    "# Sort the DataFrame by Test Accuracy\n",
    "results_df = results_df.sort_values(by=\"Test Accuracy\", ascending=False)\n",
    "\n",
    "# Display the updated summary of all models\n",
    "print(\"\\nSummary of All Models:\")\n",
    "display(results_df)\n",
    "\n"
   ]
  },
  {
   "cell_type": "markdown",
   "metadata": {},
   "source": [
    "#### **Section 7. Conclusions and Insights**"
   ]
  },
  {
   "cell_type": "markdown",
   "metadata": {},
   "source": [
    "Key Findings from the Results\n",
    "Random Forest (200, max_depth=10)\n",
    "\n",
    "Test Accuracy: 88.12%\n",
    "\n",
    "Test F1 Score: 0.8596\n",
    "\n",
    "Random Forest performed excellently with high accuracy and F1 score, though there was a slight overfitting (train-test gap of 9.46%). The model is strong but could benefit from fine-tuning.\n",
    "\n",
    "MLP Classifier\n",
    "\n",
    "Test Accuracy: 84.38%\n",
    "\n",
    "Test F1 Score: 0.8073\n",
    "\n",
    "MLP Classifier showed decent performance with a smaller train-test gap, indicating better generalization. However, it lagged behind Random Forest in terms of overall accuracy.\n",
    "\n",
    "Model Insights\n",
    "Random Forest is the top performer, offering high accuracy and strong generalization. It's robust and well-suited for this type of dataset. Tuning parameters like max_depth could reduce overfitting and improve test accuracy.\n",
    "\n",
    "MLP Classifier performed decently, though its performance was lower than Random Forest. Further tuning, like adjusting hidden layers or learning rate, might improve its performance.\n",
    "\n",
    "Next Steps\n",
    "Hyperparameter Tuning: Further tuning of Random Forest and MLP could improve performance, particularly for Random Forest's max depth and MLP’s architecture.\n",
    "\n",
    "Feature Engineering: Additional features or scaling could enhance predictive power.\n",
    "\n",
    "Model Ensembling: Combining models, like using AdaBoost or Voting Classifiers, could improve robustness and accuracy.\n",
    "\n",
    "Cross-Validation: Implement cross-validation to better assess model performance and reduce overfitting.\n",
    "\n",
    "Final Thoughts\n",
    "Random Forest emerges as the most promising model for predicting wine quality. Its strong results, even with minor overfitting, make it a solid choice. MLP Classifier also shows potential, but further tuning is needed. Exploring other ensemble methods and additional feature engineering could lead to even better predictions."
   ]
  }
 ],
 "metadata": {
  "kernelspec": {
   "display_name": ".venv",
   "language": "python",
   "name": "python3"
  },
  "language_info": {
   "codemirror_mode": {
    "name": "ipython",
    "version": 3
   },
   "file_extension": ".py",
   "mimetype": "text/x-python",
   "name": "python",
   "nbconvert_exporter": "python",
   "pygments_lexer": "ipython3",
   "version": "3.9.6"
  }
 },
 "nbformat": 4,
 "nbformat_minor": 2
}
